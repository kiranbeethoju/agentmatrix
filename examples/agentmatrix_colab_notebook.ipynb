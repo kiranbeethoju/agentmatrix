{
  "nbformat": 4,
  "nbformat_minor": 0,
  "metadata": {
    "colab": {
      "private_outputs": true,
      "provenance": []
    },
    "kernelspec": {
      "name": "python3",
      "display_name": "Python 3"
    },
    "language_info": {
      "name": "python"
    }
  },
  "cells": [
    {
      "cell_type": "code",
      "execution_count": null,
      "metadata": {
        "id": "gQzdHul83Oos"
      },
      "outputs": [],
      "source": [
        "pip install agentmatrix"
      ]
    },
    {
      "cell_type": "code",
      "source": [
        "from agentmatrix import MultiAgentSystem\n",
        "\n",
        "# Initialize the system\n",
        "mas = MultiAgentSystem()\n",
        "\n",
        "# Add agents\n",
        "mas.add_duckduckgo_agent()\n",
        "mas.add_llm_agent(api_key=\"your api key\", model=\"gpt-4\")\n",
        "\n",
        "# Process a query\n",
        "conclusion = mas.process_query(\n",
        "    search_term=\"current trends in stock and share market\",\n",
        "    expert_type=\"Financial Market Expert\",\n",
        "    expert_description=\"You are an expert in the latest trends and developments in the global stock and share market.\",\n",
        "    user_prompt=\"Provide insights into the current trends and developments in the stock and share market. Include reference links.\",\n",
        "    response_format=\"json\",\n",
        "    listed_urls=[\"https://www.marketwatch.com/\", \"https://www.bloomberg.com/markets\"] #which URLs should be referred\n",
        ")\n",
        "\n",
        "\n",
        "print(conclusion)"
      ],
      "metadata": {
        "id": "O0PQJ7FF3PZb"
      },
      "execution_count": null,
      "outputs": []
    },
    {
      "cell_type": "code",
      "source": [
        "df = pd.DataFrame(conclusion['Financial Market Trends'])"
      ],
      "metadata": {
        "id": "WS-JPbtn3XcS"
      },
      "execution_count": null,
      "outputs": []
    },
    {
      "cell_type": "code",
      "source": [
        "df"
      ],
      "metadata": {
        "id": "MZfDU3_X5JLa"
      },
      "execution_count": null,
      "outputs": []
    },
    {
      "cell_type": "code",
      "source": [],
      "metadata": {
        "id": "4gHxhu7J6vOM"
      },
      "execution_count": null,
      "outputs": []
    },
    {
      "cell_type": "code",
      "source": [],
      "metadata": {
        "id": "06leIOxM5Zhk"
      },
      "execution_count": null,
      "outputs": []
    }
  ]
}